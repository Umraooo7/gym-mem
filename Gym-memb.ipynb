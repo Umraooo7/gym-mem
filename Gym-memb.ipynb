{
 "cells": [
  {
   "cell_type": "markdown",
   "metadata": {},
   "source": [
    "# Gym-memb (To check active Gym member)\n",
    "### To generate random dataframe, perform cleaning operation"
   ]
  },
  {
   "cell_type": "code",
   "execution_count": 1,
   "metadata": {},
   "outputs": [
    {
     "data": {
      "text/plain": [
       "6"
      ]
     },
     "execution_count": 1,
     "metadata": {},
     "output_type": "execute_result"
    }
   ],
   "source": [
    "len('Gender')"
   ]
  },
  {
   "cell_type": "markdown",
   "metadata": {},
   "source": [
    "Getting lenth of string for further use: "
   ]
  },
  {
   "cell_type": "markdown",
   "metadata": {},
   "source": [
    "## To Generate Text file for active memebers and Ex members"
   ]
  },
  {
   "cell_type": "code",
   "execution_count": 2,
   "metadata": {},
   "outputs": [],
   "source": [
    "from random import randint as rnd\n",
    "\n",
    "memReg = 'members1.txt'\n",
    "exReg = 'inactive1.txt'\n",
    "fee =('M','F')\n",
    "act =('yes','no')\n",
    "\n",
    "# Def genFiles -\n",
    "\n",
    "def genFiles(current,old):\n",
    "    with open(current,'w+') as writefile: \n",
    "        writefile.write('Membership No  Date Joined  Gender  Active  Age\\n')\n",
    "        data = \"{:^13}  {:<11}  {:<6}  {:<6}  {:<3}\\n\"\n",
    "\n",
    "        for rowno in range(20):\n",
    "            date = str(rnd(2020,2021))+ '-' + str(rnd(1,10))+'-'+str(rnd(1,28))\n",
    "            writefile.write(data.format(rnd(10000,99999),date,fee[rnd(0,1)],act[rnd(0,1)],rnd(20,65)))\n",
    "\n",
    "\n",
    "    with open(old,'w+') as writefile: \n",
    "        writefile.write('Membership No  Date Joined  Gender  Active  Age\\n')\n",
    "        data = \"{:^13}  {:<11}  {:<6}  {:<6}  {:<3}\\n\"\n",
    "        \n",
    "        for rowno in range(4):\n",
    "            date = str(rnd(2020,2021))+ '-' + str(rnd(1,10))+'-'+str(rnd(1,28))\n",
    "            writefile.write(data.format(rnd(10000,99999),date,fee[rnd(0,1)],act[1],rnd(20,65)))\n",
    "\n",
    "\n",
    "genFiles(memReg,exReg)\n"
   ]
  },
  {
   "cell_type": "markdown",
   "metadata": {},
   "source": [
    "## For Reading Files\n",
    "\n",
    "readFiles() is going to use multiple time in script "
   ]
  },
  {
   "cell_type": "code",
   "execution_count": 3,
   "metadata": {},
   "outputs": [
    {
     "name": "stdout",
     "output_type": "stream",
     "text": [
      "Active Members: \n",
      "\n",
      "\n",
      "Membership No  Date Joined  Gender  Active  Age\n",
      "    94597      2020-8-21    F       yes     61 \n",
      "    47182      2021-2-12    M       no      51 \n",
      "    58993      2020-2-11    M       no      36 \n",
      "    15324      2021-9-1     F       no      45 \n",
      "    80641      2020-5-4     F       yes     47 \n",
      "    74089      2020-9-6     F       yes     60 \n",
      "    49963      2020-7-8     F       yes     64 \n",
      "    61600      2021-7-22    M       no      44 \n",
      "    98056      2021-1-14    M       yes     46 \n",
      "    50223      2021-3-25    F       no      30 \n",
      "    37704      2021-6-16    F       yes     25 \n",
      "    63801      2020-1-2     F       yes     46 \n",
      "    86382      2021-8-13    F       yes     57 \n",
      "    98371      2020-3-23    F       no      52 \n",
      "    43193      2021-4-23    F       yes     40 \n",
      "    18740      2020-6-1     M       no      36 \n",
      "    48615      2020-5-21    M       no      35 \n",
      "    68452      2021-9-10    M       no      46 \n",
      "    94636      2020-6-11    F       no      59 \n",
      "    17135      2021-7-5     M       no      53 \n",
      "\n",
      "Inactive Members: \n",
      "\n",
      "\n",
      "Membership No  Date Joined  Gender  Active  Age\n",
      "    86171      2021-2-12    F       no      63 \n",
      "    64886      2020-6-16    M       no      30 \n",
      "    40310      2020-3-4     F       no      21 \n",
      "    37227      2020-5-17    F       no      55 \n",
      "\n"
     ]
    }
   ],
   "source": [
    "def readFiles(current,old):\n",
    "    headers = \"Membership No  Date Joined  Member  Gender  Age\\n\"\n",
    "    with open(memReg,'r') as readFile:\n",
    "        print(\"Active Members: \\n\\n\")\n",
    "        print(readFile.read())\n",
    "\n",
    "    with open(exReg,'r') as readFile:\n",
    "        print(\"Inactive Members: \\n\\n\")\n",
    "        print(readFile.read())\n",
    "\n",
    "# Opening Files\n",
    "readFiles(memReg,exReg)"
   ]
  },
  {
   "cell_type": "markdown",
   "metadata": {},
   "source": [
    "Just checking: "
   ]
  },
  {
   "cell_type": "code",
   "execution_count": 4,
   "metadata": {},
   "outputs": [],
   "source": [
    "def cleanFiles(currentMem,exMem):\n",
    "    '''\n",
    "    currentMem: File containing list of current members\n",
    "    exMem: File containing list of old members\n",
    "    \n",
    "    Removes all rows from currentMem containing 'no' and appends them to exMem\n",
    "    '''\n",
    "    \n",
    "    pass \n",
    "\n",
    "\n",
    "# Code to help you see the files\n",
    "# Leave as is\n",
    "cleanFiles(memReg,exReg)"
   ]
  },
  {
   "cell_type": "code",
   "execution_count": 5,
   "metadata": {},
   "outputs": [],
   "source": [
    "## To perform Cleaning operation:\n",
    "\n",
    "# Original file is going to overwrite after operation."
   ]
  },
  {
   "cell_type": "code",
   "execution_count": 6,
   "metadata": {},
   "outputs": [
    {
     "name": "stdout",
     "output_type": "stream",
     "text": [
      "Active Members: \n",
      "\n",
      "\n",
      "Membership No  Date Joined  Gender  Active  Age\n",
      "    94597      2020-8-21    F       yes     61 \n",
      "    47182      2021-2-12    M       no      51 \n",
      "    58993      2020-2-11    M       no      36 \n",
      "    15324      2021-9-1     F       no      45 \n",
      "    80641      2020-5-4     F       yes     47 \n",
      "    74089      2020-9-6     F       yes     60 \n",
      "    49963      2020-7-8     F       yes     64 \n",
      "    61600      2021-7-22    M       no      44 \n",
      "    98056      2021-1-14    M       yes     46 \n",
      "    50223      2021-3-25    F       no      30 \n",
      "    37704      2021-6-16    F       yes     25 \n",
      "    63801      2020-1-2     F       yes     46 \n",
      "    86382      2021-8-13    F       yes     57 \n",
      "    98371      2020-3-23    F       no      52 \n",
      "    43193      2021-4-23    F       yes     40 \n",
      "    18740      2020-6-1     M       no      36 \n",
      "    48615      2020-5-21    M       no      35 \n",
      "    68452      2021-9-10    M       no      46 \n",
      "    94636      2020-6-11    F       no      59 \n",
      "    17135      2021-7-5     M       no      53 \n",
      "\n",
      "Inactive Members: \n",
      "\n",
      "\n",
      "Membership No  Date Joined  Gender  Active  Age\n",
      "    86171      2021-2-12    F       no      63 \n",
      "    64886      2020-6-16    M       no      30 \n",
      "    40310      2020-3-4     F       no      21 \n",
      "    37227      2020-5-17    F       no      55 \n",
      "\n",
      "Performing Cleaning Operation:_________________________\n",
      "\n",
      "\n",
      "Active Members: \n",
      "\n",
      "\n",
      "Membership No  Date Joined  Gender  Active  Age\n",
      "    94597      2020-8-21    F       yes     61 \n",
      "    80641      2020-5-4     F       yes     47 \n",
      "    74089      2020-9-6     F       yes     60 \n",
      "    49963      2020-7-8     F       yes     64 \n",
      "    98056      2021-1-14    M       yes     46 \n",
      "    37704      2021-6-16    F       yes     25 \n",
      "    63801      2020-1-2     F       yes     46 \n",
      "    86382      2021-8-13    F       yes     57 \n",
      "    43193      2021-4-23    F       yes     40 \n",
      "\n",
      "Inactive Members: \n",
      "\n",
      "\n",
      "Membership No  Date Joined  Gender  Active  Age\n",
      "    86171      2021-2-12    F       no      63 \n",
      "    64886      2020-6-16    M       no      30 \n",
      "    40310      2020-3-4     F       no      21 \n",
      "    37227      2020-5-17    F       no      55 \n",
      "    47182      2021-2-12    M       no      51 \n",
      "    58993      2020-2-11    M       no      36 \n",
      "    15324      2021-9-1     F       no      45 \n",
      "    61600      2021-7-22    M       no      44 \n",
      "    50223      2021-3-25    F       no      30 \n",
      "    98371      2020-3-23    F       no      52 \n",
      "    18740      2020-6-1     M       no      36 \n",
      "    48615      2020-5-21    M       no      35 \n",
      "    68452      2021-9-10    M       no      46 \n",
      "    94636      2020-6-11    F       no      59 \n",
      "    17135      2021-7-5     M       no      53 \n",
      "\n"
     ]
    }
   ],
   "source": [
    "# Opening Files\n",
    "readFiles(memReg,exReg)\n",
    "    \n",
    "def cleanFiles(currentMem,exMem):\n",
    "    with open(currentMem,'r+') as writeFile: \n",
    "        with open(exMem,'a+') as appendFile:\n",
    "            #get the data\n",
    "            writeFile.seek(0)\n",
    "            members = writeFile.readlines()\n",
    "            #remove header\n",
    "            header = members[0]\n",
    "            members.pop(0)\n",
    "\n",
    "            inactive = [member for member in members if ('no' in member)]\n",
    "            '''\n",
    "            The above is the same as \n",
    "\n",
    "            for member in active:\n",
    "            if 'no' in member:\n",
    "                inactive.append(member)\n",
    "            '''\n",
    "            #go to the beginning of the write file\n",
    "            writeFile.seek(0) \n",
    "            writeFile.write(header)\n",
    "            for member in members:\n",
    "                if (member in inactive):\n",
    "                    appendFile.write(member)\n",
    "                else:\n",
    "                    writeFile.write(member)      \n",
    "            writeFile.truncate()\n",
    "\n",
    "\n",
    "            \n",
    "print(\"Performing Cleaning Operation:\" + 25*'_' + '\\n\\n')\n",
    "cleanFiles(memReg,exReg)\n",
    "\n",
    "# function to Read files\n",
    "readFiles(memReg,exReg)"
   ]
  },
  {
   "cell_type": "markdown",
   "metadata": {},
   "source": [
    "Files is stored in .txt format"
   ]
  },
  {
   "cell_type": "markdown",
   "metadata": {},
   "source": [
    "## To generate random data based, csv file, delimiter is Tab."
   ]
  },
  {
   "cell_type": "code",
   "execution_count": 7,
   "metadata": {},
   "outputs": [
    {
     "name": "stdout",
     "output_type": "stream",
     "text": [
      "Active Members: \n",
      "\n",
      "\n",
      "Membership No\tDate Joined\tActive\tGender\tAge  \n",
      "    77282    \t2015-5-5   \tyes   \tM     \t41 \n",
      "    53586    \t2015-4-1   \tyes   \tF     \t25 \n",
      "    78206    \t2015-12-12 \tno    \tF     \t24 \n",
      "    83112    \t2019-8-9   \tno    \tF     \t20 \n",
      "    12094    \t2015-10-22 \tyes   \tF     \t39 \n",
      "    66259    \t2017-9-3   \tno    \tF     \t22 \n",
      "    19868    \t2020-7-25  \tno    \tF     \t34 \n",
      "    15711    \t2017-12-4  \tno    \tF     \t37 \n",
      "    35677    \t2017-6-11  \tno    \tM     \t38 \n",
      "    34493    \t2016-6-19  \tyes   \tF     \t45 \n",
      "    67568    \t2017-3-11  \tyes   \tF     \t26 \n",
      "    19110    \t2016-3-7   \tno    \tM     \t27 \n",
      "    39966    \t2020-10-19 \tno    \tF     \t29 \n",
      "    37062    \t2018-1-10  \tno    \tM     \t23 \n",
      "    41546    \t2019-9-15  \tno    \tM     \t37 \n",
      "    22316    \t2017-7-11  \tyes   \tM     \t26 \n",
      "    14758    \t2018-1-13  \tno    \tM     \t22 \n",
      "    49570    \t2019-12-11 \tyes   \tM     \t27 \n",
      "    60064    \t2017-9-7   \tyes   \tM     \t33 \n",
      "    38002    \t2015-12-3  \tno    \tM     \t42 \n",
      "\n",
      "Inactive Members: \n",
      "\n",
      "\n",
      "Membership No\tDate Joined\tActive\tGender\tAge  \n",
      "    56482    \t2017-11-4  \tno    \tF     \t39 \n",
      "    76822    \t2017-10-6  \tno    \tF     \t39 \n",
      "    89529    \t2017-9-21  \tno    \tF     \t34 \n",
      "\n",
      "Performing Cleaning Operation:_________________________\n",
      "\n",
      "\n",
      "Active Members: \n",
      "\n",
      "\n",
      "Membership No\tDate Joined\tActive\tGender\tAge  \n",
      "    77282    \t2015-5-5   \tyes   \tM     \t41 \n",
      "    53586    \t2015-4-1   \tyes   \tF     \t25 \n",
      "    12094    \t2015-10-22 \tyes   \tF     \t39 \n",
      "    34493    \t2016-6-19  \tyes   \tF     \t45 \n",
      "    67568    \t2017-3-11  \tyes   \tF     \t26 \n",
      "    22316    \t2017-7-11  \tyes   \tM     \t26 \n",
      "    49570    \t2019-12-11 \tyes   \tM     \t27 \n",
      "    60064    \t2017-9-7   \tyes   \tM     \t33 \n",
      "\n",
      "Inactive Members: \n",
      "\n",
      "\n",
      "Membership No\tDate Joined\tActive\tGender\tAge  \n",
      "    56482    \t2017-11-4  \tno    \tF     \t39 \n",
      "    76822    \t2017-10-6  \tno    \tF     \t39 \n",
      "    89529    \t2017-9-21  \tno    \tF     \t34 \n",
      "    78206    \t2015-12-12 \tno    \tF     \t24 \n",
      "    83112    \t2019-8-9   \tno    \tF     \t20 \n",
      "    66259    \t2017-9-3   \tno    \tF     \t22 \n",
      "    19868    \t2020-7-25  \tno    \tF     \t34 \n",
      "    15711    \t2017-12-4  \tno    \tF     \t37 \n",
      "    35677    \t2017-6-11  \tno    \tM     \t38 \n",
      "    19110    \t2016-3-7   \tno    \tM     \t27 \n",
      "    39966    \t2020-10-19 \tno    \tF     \t29 \n",
      "    37062    \t2018-1-10  \tno    \tM     \t23 \n",
      "    41546    \t2019-9-15  \tno    \tM     \t37 \n",
      "    14758    \t2018-1-13  \tno    \tM     \t22 \n",
      "    38002    \t2015-12-3  \tno    \tM     \t42 \n",
      "\n"
     ]
    }
   ],
   "source": [
    "memReg = 'memb1.csv'\n",
    "exReg = 'inact1.csv'\n",
    "fee =('yes','no')\n",
    "act =('F','M')\n",
    "\n",
    "def genFiles(current,old):\n",
    "    with open(current,'w+') as writefile: \n",
    "        writefile.write('Membership No\\tDate Joined\\tActive\\tGender\\tAge  \\n')\n",
    "        data = \"{:^13}\\t{:<11}\\t{:<6}\\t{:<6}\\t{:<3}\\n\"\n",
    "\n",
    "        for rowno in range(20):\n",
    "            date = str(rnd(2015,2020))+ '-' + str(rnd(1,12))+'-'+str(rnd(1,25))\n",
    "            writefile.write(data.format(rnd(10000,99999),date,fee[rnd(0,1)],act[rnd(0,1)],rnd(20,45)))\n",
    "\n",
    "\n",
    "    with open(old,'w+') as writefile: \n",
    "        writefile.write('Membership No\\tDate Joined\\tActive\\tGender\\tAge  \\n')\n",
    "        data = \"{:^13}\\t{:<11}\\t{:<6}\\t{:<6}\\t{:<3}\\n\"\n",
    "        for rowno in range(3):\n",
    "            date = str(rnd(2015,2020))+ '-' + str(rnd(1,12))+'-'+str(rnd(1,25))\n",
    "            writefile.write(data.format(rnd(10000,99999),date,fee[1],act[rnd(0,1)],rnd(20,45)))\n",
    "\n",
    "\n",
    "genFiles(memReg,exReg)\n",
    "\n",
    "readFiles(memReg,exReg)\n",
    "    \n",
    "cleanFiles(memReg,exReg)\n",
    "\n",
    "print(\"Performing Cleaning Operation:\" + 25*'_' + '\\n\\n')\n",
    "\n",
    "readFiles(memReg,exReg)\n"
   ]
  },
  {
   "cell_type": "markdown",
   "metadata": {},
   "source": [
    "Files stored in .csv format and seperated by \\t"
   ]
  },
  {
   "cell_type": "markdown",
   "metadata": {},
   "source": [
    "## Using delimiter to seperate data by \\t. "
   ]
  },
  {
   "cell_type": "code",
   "execution_count": 8,
   "metadata": {},
   "outputs": [
    {
     "name": "stdout",
     "output_type": "stream",
     "text": [
      "   Membership No  Date Joined  Active  Gender  Age  \n",
      "0          56482  2017-11-4    no      F          39\n",
      "1          76822  2017-10-6    no      F          39\n",
      "2          89529  2017-9-21    no      F          34\n"
     ]
    }
   ],
   "source": [
    "import pandas as pd\n",
    "\n",
    "df= pd.read_csv('inact1.csv', sep = '\\t', engine = 'python')\n",
    "print(df.head(3)) "
   ]
  },
  {
   "cell_type": "code",
   "execution_count": 9,
   "metadata": {},
   "outputs": [
    {
     "name": "stdout",
     "output_type": "stream",
     "text": [
      "Index(['Membership No', 'Date Joined', 'Active', 'Gender', 'Age  '], dtype='object')\n"
     ]
    }
   ],
   "source": [
    "print(df.columns)"
   ]
  },
  {
   "cell_type": "markdown",
   "metadata": {},
   "source": [
    "### DataFrame status"
   ]
  },
  {
   "cell_type": "code",
   "execution_count": 10,
   "metadata": {},
   "outputs": [
    {
     "data": {
      "text/plain": [
       "89529"
      ]
     },
     "execution_count": 10,
     "metadata": {},
     "output_type": "execute_result"
    }
   ],
   "source": [
    "df['Membership No'].max()"
   ]
  },
  {
   "cell_type": "code",
   "execution_count": 11,
   "metadata": {},
   "outputs": [
    {
     "data": {
      "text/plain": [
       "array(['no    '], dtype=object)"
      ]
     },
     "execution_count": 11,
     "metadata": {},
     "output_type": "execute_result"
    }
   ],
   "source": [
    "df['Active'].unique()"
   ]
  },
  {
   "cell_type": "code",
   "execution_count": 12,
   "metadata": {},
   "outputs": [
    {
     "name": "stdout",
     "output_type": "stream",
     "text": [
      "   Membership No  Date Joined  Active  Gender  Age  \n",
      "0          77282  2015-5-5     yes     M          41\n",
      "1          53586  2015-4-1     yes     F          25\n",
      "2          12094  2015-10-22   yes     F          39\n"
     ]
    }
   ],
   "source": [
    "df1= pd.read_csv('memb1.csv', sep = '\\t', engine = 'python')\n",
    "print(df1.head(3)) "
   ]
  },
  {
   "cell_type": "code",
   "execution_count": 13,
   "metadata": {},
   "outputs": [
    {
     "data": {
      "text/html": [
       "<div>\n",
       "<style scoped>\n",
       "    .dataframe tbody tr th:only-of-type {\n",
       "        vertical-align: middle;\n",
       "    }\n",
       "\n",
       "    .dataframe tbody tr th {\n",
       "        vertical-align: top;\n",
       "    }\n",
       "\n",
       "    .dataframe thead th {\n",
       "        text-align: right;\n",
       "    }\n",
       "</style>\n",
       "<table border=\"1\" class=\"dataframe\">\n",
       "  <thead>\n",
       "    <tr style=\"text-align: right;\">\n",
       "      <th></th>\n",
       "      <th>Membership No</th>\n",
       "      <th>Date Joined</th>\n",
       "      <th>Active</th>\n",
       "      <th>Gender</th>\n",
       "      <th>Age</th>\n",
       "    </tr>\n",
       "  </thead>\n",
       "  <tbody>\n",
       "    <tr>\n",
       "      <th>3</th>\n",
       "      <td>34493</td>\n",
       "      <td>2016-6-19</td>\n",
       "      <td>yes</td>\n",
       "      <td>F</td>\n",
       "      <td>45</td>\n",
       "    </tr>\n",
       "    <tr>\n",
       "      <th>4</th>\n",
       "      <td>67568</td>\n",
       "      <td>2017-3-11</td>\n",
       "      <td>yes</td>\n",
       "      <td>F</td>\n",
       "      <td>26</td>\n",
       "    </tr>\n",
       "    <tr>\n",
       "      <th>5</th>\n",
       "      <td>22316</td>\n",
       "      <td>2017-7-11</td>\n",
       "      <td>yes</td>\n",
       "      <td>M</td>\n",
       "      <td>26</td>\n",
       "    </tr>\n",
       "    <tr>\n",
       "      <th>6</th>\n",
       "      <td>49570</td>\n",
       "      <td>2019-12-11</td>\n",
       "      <td>yes</td>\n",
       "      <td>M</td>\n",
       "      <td>27</td>\n",
       "    </tr>\n",
       "    <tr>\n",
       "      <th>7</th>\n",
       "      <td>60064</td>\n",
       "      <td>2017-9-7</td>\n",
       "      <td>yes</td>\n",
       "      <td>M</td>\n",
       "      <td>33</td>\n",
       "    </tr>\n",
       "  </tbody>\n",
       "</table>\n",
       "</div>"
      ],
      "text/plain": [
       "   Membership No  Date Joined  Active  Gender  Age  \n",
       "3          34493  2016-6-19    yes     F          45\n",
       "4          67568  2017-3-11    yes     F          26\n",
       "5          22316  2017-7-11    yes     M          26\n",
       "6          49570  2019-12-11   yes     M          27\n",
       "7          60064  2017-9-7     yes     M          33"
      ]
     },
     "execution_count": 13,
     "metadata": {},
     "output_type": "execute_result"
    }
   ],
   "source": [
    "df1.tail(5)"
   ]
  },
  {
   "cell_type": "code",
   "execution_count": 14,
   "metadata": {},
   "outputs": [
    {
     "data": {
      "text/html": [
       "<div>\n",
       "<style scoped>\n",
       "    .dataframe tbody tr th:only-of-type {\n",
       "        vertical-align: middle;\n",
       "    }\n",
       "\n",
       "    .dataframe tbody tr th {\n",
       "        vertical-align: top;\n",
       "    }\n",
       "\n",
       "    .dataframe thead th {\n",
       "        text-align: right;\n",
       "    }\n",
       "</style>\n",
       "<table border=\"1\" class=\"dataframe\">\n",
       "  <thead>\n",
       "    <tr style=\"text-align: right;\">\n",
       "      <th></th>\n",
       "      <th>Membership No</th>\n",
       "      <th>Date Joined</th>\n",
       "      <th>Active</th>\n",
       "      <th>Age</th>\n",
       "    </tr>\n",
       "    <tr>\n",
       "      <th>Gender</th>\n",
       "      <th></th>\n",
       "      <th></th>\n",
       "      <th></th>\n",
       "      <th></th>\n",
       "    </tr>\n",
       "  </thead>\n",
       "  <tbody>\n",
       "    <tr>\n",
       "      <th>F</th>\n",
       "      <td>4</td>\n",
       "      <td>4</td>\n",
       "      <td>4</td>\n",
       "      <td>4</td>\n",
       "    </tr>\n",
       "    <tr>\n",
       "      <th>M</th>\n",
       "      <td>4</td>\n",
       "      <td>4</td>\n",
       "      <td>4</td>\n",
       "      <td>4</td>\n",
       "    </tr>\n",
       "  </tbody>\n",
       "</table>\n",
       "</div>"
      ],
      "text/plain": [
       "        Membership No  Date Joined  Active  Age  \n",
       "Gender                                           \n",
       "F                   4            4       4      4\n",
       "M                   4            4       4      4"
      ]
     },
     "execution_count": 14,
     "metadata": {},
     "output_type": "execute_result"
    }
   ],
   "source": [
    "df1.groupby('Gender').count()"
   ]
  },
  {
   "cell_type": "code",
   "execution_count": null,
   "metadata": {},
   "outputs": [],
   "source": []
  }
 ],
 "metadata": {
  "kernelspec": {
   "display_name": "Python 3",
   "language": "python",
   "name": "python3"
  },
  "language_info": {
   "codemirror_mode": {
    "name": "ipython",
    "version": 3
   },
   "file_extension": ".py",
   "mimetype": "text/x-python",
   "name": "python",
   "nbconvert_exporter": "python",
   "pygments_lexer": "ipython3",
   "version": "3.8.2"
  }
 },
 "nbformat": 4,
 "nbformat_minor": 4
}
